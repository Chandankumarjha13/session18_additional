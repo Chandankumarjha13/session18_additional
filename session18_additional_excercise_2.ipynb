{
 "cells": [
  {
   "cell_type": "markdown",
   "metadata": {},
   "source": [
    "# Problem Statement\n",
    "Given the following data set, use the sklearn package to find the co-efficients of the\n",
    "line that describes the following relationships:\n",
    "1) x1 and y\n",
    "2) x2 and y\n",
    "3) x3 and y\n",
    "Also, plot the line and the data using matplotlib and report the co-efficient of\n",
    "determination for the lines using the metrics library."
   ]
  },
  {
   "cell_type": "code",
   "execution_count": 14,
   "metadata": {},
   "outputs": [],
   "source": [
    "# imports\n",
    "import numpy as np\n",
    "import pandas as pd\n",
    "import matplotlib.pyplot as plt\n",
    "# follow the usual sklearn pattern: import, instantiate, fit\n",
    "from sklearn.linear_model import LinearRegression\n",
    "\n",
    "# this allows plots to appear directly in the notebook\n",
    "%matplotlib inline\n"
   ]
  },
  {
   "cell_type": "code",
   "execution_count": 15,
   "metadata": {},
   "outputs": [],
   "source": [
    "# read data into a DataFrame\n",
    "data = pd.read_csv('http://www-bcf.usc.edu/~gareth/ISL/Advertising.csv', index_col=0)\n",
    "data.head(15)\n",
    "data.columns = ['TV ADD costin Thousand Dollar(x1)', 'Radio ADD costin Thousand Dollar(x2)', 'NewsPaper ADD costin Thousand Dollar(x3)', 'Sales of product in Thousand Dollar(x1)']"
   ]
  },
  {
   "cell_type": "code",
   "execution_count": 16,
   "metadata": {},
   "outputs": [
    {
     "data": {
      "text/html": [
       "<div>\n",
       "<style scoped>\n",
       "    .dataframe tbody tr th:only-of-type {\n",
       "        vertical-align: middle;\n",
       "    }\n",
       "\n",
       "    .dataframe tbody tr th {\n",
       "        vertical-align: top;\n",
       "    }\n",
       "\n",
       "    .dataframe thead th {\n",
       "        text-align: right;\n",
       "    }\n",
       "</style>\n",
       "<table border=\"1\" class=\"dataframe\">\n",
       "  <thead>\n",
       "    <tr style=\"text-align: right;\">\n",
       "      <th></th>\n",
       "      <th>TV ADD costin Thousand Dollar(x1)</th>\n",
       "      <th>Radio ADD costin Thousand Dollar(x2)</th>\n",
       "      <th>NewsPaper ADD costin Thousand Dollar(x3)</th>\n",
       "      <th>Sales of product in Thousand Dollar(x1)</th>\n",
       "    </tr>\n",
       "  </thead>\n",
       "  <tbody>\n",
       "    <tr>\n",
       "      <th>1</th>\n",
       "      <td>230.1</td>\n",
       "      <td>37.8</td>\n",
       "      <td>69.2</td>\n",
       "      <td>22.1</td>\n",
       "    </tr>\n",
       "    <tr>\n",
       "      <th>2</th>\n",
       "      <td>44.5</td>\n",
       "      <td>39.3</td>\n",
       "      <td>45.1</td>\n",
       "      <td>10.4</td>\n",
       "    </tr>\n",
       "    <tr>\n",
       "      <th>3</th>\n",
       "      <td>17.2</td>\n",
       "      <td>45.9</td>\n",
       "      <td>69.3</td>\n",
       "      <td>9.3</td>\n",
       "    </tr>\n",
       "    <tr>\n",
       "      <th>4</th>\n",
       "      <td>151.5</td>\n",
       "      <td>41.3</td>\n",
       "      <td>58.5</td>\n",
       "      <td>18.5</td>\n",
       "    </tr>\n",
       "    <tr>\n",
       "      <th>5</th>\n",
       "      <td>180.8</td>\n",
       "      <td>10.8</td>\n",
       "      <td>58.4</td>\n",
       "      <td>12.9</td>\n",
       "    </tr>\n",
       "    <tr>\n",
       "      <th>6</th>\n",
       "      <td>8.7</td>\n",
       "      <td>48.9</td>\n",
       "      <td>75.0</td>\n",
       "      <td>7.2</td>\n",
       "    </tr>\n",
       "    <tr>\n",
       "      <th>7</th>\n",
       "      <td>57.5</td>\n",
       "      <td>32.8</td>\n",
       "      <td>23.5</td>\n",
       "      <td>11.8</td>\n",
       "    </tr>\n",
       "    <tr>\n",
       "      <th>8</th>\n",
       "      <td>120.2</td>\n",
       "      <td>19.6</td>\n",
       "      <td>11.6</td>\n",
       "      <td>13.2</td>\n",
       "    </tr>\n",
       "    <tr>\n",
       "      <th>9</th>\n",
       "      <td>8.6</td>\n",
       "      <td>2.1</td>\n",
       "      <td>1.0</td>\n",
       "      <td>4.8</td>\n",
       "    </tr>\n",
       "    <tr>\n",
       "      <th>10</th>\n",
       "      <td>199.8</td>\n",
       "      <td>2.6</td>\n",
       "      <td>21.2</td>\n",
       "      <td>10.6</td>\n",
       "    </tr>\n",
       "    <tr>\n",
       "      <th>11</th>\n",
       "      <td>66.1</td>\n",
       "      <td>5.8</td>\n",
       "      <td>24.2</td>\n",
       "      <td>8.6</td>\n",
       "    </tr>\n",
       "    <tr>\n",
       "      <th>12</th>\n",
       "      <td>214.7</td>\n",
       "      <td>24.0</td>\n",
       "      <td>4.0</td>\n",
       "      <td>17.4</td>\n",
       "    </tr>\n",
       "    <tr>\n",
       "      <th>13</th>\n",
       "      <td>23.8</td>\n",
       "      <td>35.1</td>\n",
       "      <td>65.9</td>\n",
       "      <td>9.2</td>\n",
       "    </tr>\n",
       "    <tr>\n",
       "      <th>14</th>\n",
       "      <td>97.5</td>\n",
       "      <td>7.6</td>\n",
       "      <td>7.2</td>\n",
       "      <td>9.7</td>\n",
       "    </tr>\n",
       "    <tr>\n",
       "      <th>15</th>\n",
       "      <td>204.1</td>\n",
       "      <td>32.9</td>\n",
       "      <td>46.0</td>\n",
       "      <td>19.0</td>\n",
       "    </tr>\n",
       "  </tbody>\n",
       "</table>\n",
       "</div>"
      ],
      "text/plain": [
       "    TV ADD costin Thousand Dollar(x1)  Radio ADD costin Thousand Dollar(x2)  \\\n",
       "1                               230.1                                  37.8   \n",
       "2                                44.5                                  39.3   \n",
       "3                                17.2                                  45.9   \n",
       "4                               151.5                                  41.3   \n",
       "5                               180.8                                  10.8   \n",
       "6                                 8.7                                  48.9   \n",
       "7                                57.5                                  32.8   \n",
       "8                               120.2                                  19.6   \n",
       "9                                 8.6                                   2.1   \n",
       "10                              199.8                                   2.6   \n",
       "11                               66.1                                   5.8   \n",
       "12                              214.7                                  24.0   \n",
       "13                               23.8                                  35.1   \n",
       "14                               97.5                                   7.6   \n",
       "15                              204.1                                  32.9   \n",
       "\n",
       "    NewsPaper ADD costin Thousand Dollar(x3)  \\\n",
       "1                                       69.2   \n",
       "2                                       45.1   \n",
       "3                                       69.3   \n",
       "4                                       58.5   \n",
       "5                                       58.4   \n",
       "6                                       75.0   \n",
       "7                                       23.5   \n",
       "8                                       11.6   \n",
       "9                                        1.0   \n",
       "10                                      21.2   \n",
       "11                                      24.2   \n",
       "12                                       4.0   \n",
       "13                                      65.9   \n",
       "14                                       7.2   \n",
       "15                                      46.0   \n",
       "\n",
       "    Sales of product in Thousand Dollar(x1)  \n",
       "1                                      22.1  \n",
       "2                                      10.4  \n",
       "3                                       9.3  \n",
       "4                                      18.5  \n",
       "5                                      12.9  \n",
       "6                                       7.2  \n",
       "7                                      11.8  \n",
       "8                                      13.2  \n",
       "9                                       4.8  \n",
       "10                                     10.6  \n",
       "11                                      8.6  \n",
       "12                                     17.4  \n",
       "13                                      9.2  \n",
       "14                                      9.7  \n",
       "15                                     19.0  "
      ]
     },
     "execution_count": 16,
     "metadata": {},
     "output_type": "execute_result"
    }
   ],
   "source": [
    "data.head(15)"
   ]
  },
  {
   "cell_type": "markdown",
   "metadata": {},
   "source": [
    "Find model with individual features"
   ]
  },
  {
   "cell_type": "code",
   "execution_count": 17,
   "metadata": {},
   "outputs": [
    {
     "name": "stdout",
     "output_type": "stream",
     "text": [
      "Estimated intercept coefficient 7.032593549127693\n",
      "coefficient length 1\n",
      "coefficient [0.04753664]\n",
      "10.512652915656753\n"
     ]
    }
   ],
   "source": [
    "lm = LinearRegression()\n",
    "# create X and y\n",
    "feature_cols = ['TV ADD costin Thousand Dollar(x1)']\n",
    "X = data[feature_cols]\n",
    "y = data['Sales of product in Thousand Dollar(x1)']\n",
    "lm.fit(X, y)\n",
    "\n",
    "# print intercept and coefficients\n",
    "print(\"Estimated intercept coefficient\",lm.intercept_)\n",
    "print(\"coefficient length\",len(lm.coef_))\n",
    "print(\"coefficient\",lm.coef_)\n",
    "\n",
    "mseTVADD = np.mean((y - lm.predict(X))**2)\n",
    "print (mseTVADD)\n",
    "TV_new = pd.DataFrame({'TV ADD costin Thousand Dollar(x1)': [data[feature_cols].min(), data[feature_cols].max()]})\n",
    "TV_preds = lm.predict(TV_new)"
   ]
  },
  {
   "cell_type": "code",
   "execution_count": 18,
   "metadata": {},
   "outputs": [
    {
     "name": "stdout",
     "output_type": "stream",
     "text": [
      "Estimated intercept coefficient 9.311638095158283\n",
      "coefficient length 1\n",
      "coefficient [0.20249578]\n",
      "18.09239774512543\n"
     ]
    }
   ],
   "source": [
    "lm = LinearRegression()\n",
    "# create X and y\n",
    "feature_cols = ['Radio ADD costin Thousand Dollar(x2)']\n",
    "X = data[feature_cols]\n",
    "y = data['Sales of product in Thousand Dollar(x1)']\n",
    "lm.fit(X, y)\n",
    "\n",
    "# print intercept and coefficients\n",
    "print(\"Estimated intercept coefficient\",lm.intercept_)\n",
    "print(\"coefficient length\",len(lm.coef_))\n",
    "print(\"coefficient\",lm.coef_)\n",
    "\n",
    "mseRADIOADD = np.mean((y - lm.predict(X))**2)\n",
    "print (mseRADIOADD)\n",
    "\n",
    "Radio_new = pd.DataFrame({'Radio ADD costin Thousand Dollar(x2)': [data[feature_cols].min(), data[feature_cols].max()]})\n",
    "Radio_preds = lm.predict(Radio_new)"
   ]
  },
  {
   "cell_type": "code",
   "execution_count": 19,
   "metadata": {},
   "outputs": [
    {
     "name": "stdout",
     "output_type": "stream",
     "text": [
      "Estimated intercept coefficient 12.35140706927816\n",
      "coefficient length 1\n",
      "coefficient [0.0546931]\n",
      "25.6740227205597\n"
     ]
    }
   ],
   "source": [
    "lm = LinearRegression()\n",
    "# create X and y\n",
    "feature_cols = ['NewsPaper ADD costin Thousand Dollar(x3)']\n",
    "X = data[feature_cols]\n",
    "y = data['Sales of product in Thousand Dollar(x1)']\n",
    "lm.fit(X, y)\n",
    "\n",
    "# print intercept and coefficients\n",
    "print(\"Estimated intercept coefficient\",lm.intercept_)\n",
    "print(\"coefficient length\",len(lm.coef_))\n",
    "print(\"coefficient\",lm.coef_)\n",
    "\n",
    "mseNewsPaperAdd = np.mean((y - lm.predict(X))**2)\n",
    "print (mseNewsPaperAdd)\n",
    "\n",
    "NewsPaper_new = pd.DataFrame({'NewsPaper ADD costin Thousand Dollar(x3)': [data[feature_cols].min(), data[feature_cols].max()]})\n",
    "NewsPaper_preds = lm.predict(NewsPaper_new)"
   ]
  },
  {
   "cell_type": "markdown",
   "metadata": {},
   "source": [
    "Find sales with multiple features"
   ]
  },
  {
   "cell_type": "code",
   "execution_count": 20,
   "metadata": {},
   "outputs": [
    {
     "data": {
      "text/html": [
       "<div>\n",
       "<style scoped>\n",
       "    .dataframe tbody tr th:only-of-type {\n",
       "        vertical-align: middle;\n",
       "    }\n",
       "\n",
       "    .dataframe tbody tr th {\n",
       "        vertical-align: top;\n",
       "    }\n",
       "\n",
       "    .dataframe thead th {\n",
       "        text-align: right;\n",
       "    }\n",
       "</style>\n",
       "<table border=\"1\" class=\"dataframe\">\n",
       "  <thead>\n",
       "    <tr style=\"text-align: right;\">\n",
       "      <th></th>\n",
       "      <th>TV ADD costin Thousand Dollar(x1)</th>\n",
       "      <th>Radio ADD costin Thousand Dollar(x2)</th>\n",
       "      <th>NewsPaper ADD costin Thousand Dollar(x3)</th>\n",
       "      <th>Sales of product in Thousand Dollar(x1)</th>\n",
       "      <th>PredictedSales</th>\n",
       "    </tr>\n",
       "  </thead>\n",
       "  <tbody>\n",
       "    <tr>\n",
       "      <th>1</th>\n",
       "      <td>230.1</td>\n",
       "      <td>37.8</td>\n",
       "      <td>69.2</td>\n",
       "      <td>22.1</td>\n",
       "      <td>20.523974</td>\n",
       "    </tr>\n",
       "    <tr>\n",
       "      <th>2</th>\n",
       "      <td>44.5</td>\n",
       "      <td>39.3</td>\n",
       "      <td>45.1</td>\n",
       "      <td>10.4</td>\n",
       "      <td>12.337855</td>\n",
       "    </tr>\n",
       "    <tr>\n",
       "      <th>3</th>\n",
       "      <td>17.2</td>\n",
       "      <td>45.9</td>\n",
       "      <td>69.3</td>\n",
       "      <td>9.3</td>\n",
       "      <td>12.307671</td>\n",
       "    </tr>\n",
       "    <tr>\n",
       "      <th>4</th>\n",
       "      <td>151.5</td>\n",
       "      <td>41.3</td>\n",
       "      <td>58.5</td>\n",
       "      <td>18.5</td>\n",
       "      <td>17.597830</td>\n",
       "    </tr>\n",
       "    <tr>\n",
       "      <th>5</th>\n",
       "      <td>180.8</td>\n",
       "      <td>10.8</td>\n",
       "      <td>58.4</td>\n",
       "      <td>12.9</td>\n",
       "      <td>13.188672</td>\n",
       "    </tr>\n",
       "  </tbody>\n",
       "</table>\n",
       "</div>"
      ],
      "text/plain": [
       "   TV ADD costin Thousand Dollar(x1)  Radio ADD costin Thousand Dollar(x2)  \\\n",
       "1                              230.1                                  37.8   \n",
       "2                               44.5                                  39.3   \n",
       "3                               17.2                                  45.9   \n",
       "4                              151.5                                  41.3   \n",
       "5                              180.8                                  10.8   \n",
       "\n",
       "   NewsPaper ADD costin Thousand Dollar(x3)  \\\n",
       "1                                      69.2   \n",
       "2                                      45.1   \n",
       "3                                      69.3   \n",
       "4                                      58.5   \n",
       "5                                      58.4   \n",
       "\n",
       "   Sales of product in Thousand Dollar(x1)  PredictedSales  \n",
       "1                                     22.1       20.523974  \n",
       "2                                     10.4       12.337855  \n",
       "3                                      9.3       12.307671  \n",
       "4                                     18.5       17.597830  \n",
       "5                                     12.9       13.188672  "
      ]
     },
     "execution_count": 20,
     "metadata": {},
     "output_type": "execute_result"
    }
   ],
   "source": [
    "x=data.drop('Sales of product in Thousand Dollar(x1)',axis = 1)\n",
    "y= data['Sales of product in Thousand Dollar(x1)']\n",
    "lm = LinearRegression()\n",
    "lm.fit(x, y)\n",
    "# construct a data frame that contains features and estimated coefficients.\n",
    "pd.DataFrame(list(zip(x.columns, lm.coef_)), columns = ['Features', 'EstimatedCoefficients'])\n",
    "lm.predict(x)\n",
    "data['PredictedSales'] = lm.predict(x)\n",
    "data.head()"
   ]
  },
  {
   "cell_type": "code",
   "execution_count": 21,
   "metadata": {},
   "outputs": [
    {
     "data": {
      "text/plain": [
       "2.7841263145109343"
      ]
     },
     "execution_count": 21,
     "metadata": {},
     "output_type": "execute_result"
    }
   ],
   "source": [
    "msePTRATIO = np.mean((data['Sales of product in Thousand Dollar(x1)'] - lm.predict(x))**2)\n",
    "msePTRATIO"
   ]
  },
  {
   "cell_type": "code",
   "execution_count": 24,
   "metadata": {},
   "outputs": [
    {
     "data": {
      "text/plain": [
       "<matplotlib.axes._subplots.AxesSubplot at 0x7f704fa846a0>"
      ]
     },
     "execution_count": 24,
     "metadata": {},
     "output_type": "execute_result"
    },
    {
     "data": {
      "image/png": "[encoded data removed]",
      "text/plain": [
       "<matplotlib.figure.Figure at 0x7f704fb76978>"
      ]
     },
     "metadata": {},
     "output_type": "display_data"
    }
   ],
   "source": [
    "# visualize the relationship between the features and the response using scatterplots\n",
    "fig, axs = plt.subplots(1, 3, sharey=True)\n",
    "data.plot(kind='scatter', x='TV ADD costin Thousand Dollar(x1)', y='Sales of product in Thousand Dollar(x1)', ax=axs[0], figsize=(16, 8))\n",
    "\n",
    "# data.plot(TV_new, TV_preds, c='red', linewidth=2)\n",
    "data.plot(kind='scatter', x='Radio ADD costin Thousand Dollar(x2)', y='Sales of product in Thousand Dollar(x1)', ax=axs[1])\n",
    "# data.plot(Radio_new, Radio_preds, c='red', linewidth=2)\n",
    "data.plot(kind='scatter', x='NewsPaper ADD costin Thousand Dollar(x3)', y='Sales of product in Thousand Dollar(x1)', ax=axs[2])\n",
    "\n",
    "# then, plot the least squares line\n",
    "# data.plot(NewsPaper_new, NewsPaper_preds, c='red', linewidth=2)"
   ]
  },
  {
   "cell_type": "code",
   "execution_count": null,
   "metadata": {},
   "outputs": [],
   "source": []
  }
 ],
 "metadata": {
  "kernelspec": {
   "display_name": "Python 3",
   "language": "python",
   "name": "python3"
  },
  "language_info": {
   "codemirror_mode": {
    "name": "ipython",
    "version": 3
   },
   "file_extension": ".py",
   "mimetype": "text/x-python",
   "name": "python",
   "nbconvert_exporter": "python",
   "pygments_lexer": "ipython3",
   "version": "3.6.4"
  }
 },
 "nbformat": 4,
 "nbformat_minor": 2
}
